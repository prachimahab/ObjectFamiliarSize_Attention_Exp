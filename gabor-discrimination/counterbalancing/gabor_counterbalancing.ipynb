{
 "cells": [
  {
   "cell_type": "markdown",
   "metadata": {},
   "source": [
    "# Gabor Discrimination Counterbalancing\n",
    "\n",
    "- 12 trials (constrained by number of objects since only large is presented)\n",
    "- 6 kithcen scenes and 6 classroom scenes \n"
   ]
  },
  {
   "cell_type": "code",
   "execution_count": 2,
   "metadata": {},
   "outputs": [],
   "source": [
    "import itertools\n",
    "import json\n",
    "import random\n",
    "import numpy as np\n",
    "import os\n",
    "import csv "
   ]
  },
  {
   "cell_type": "code",
   "execution_count": 3,
   "metadata": {},
   "outputs": [],
   "source": [
    "def rotate(lst, r=1):\n",
    "    return np.roll(lst,r)"
   ]
  },
  {
   "cell_type": "code",
   "execution_count": 11,
   "metadata": {},
   "outputs": [
    {
     "data": {
      "text/plain": [
       "(12, 12, 12)"
      ]
     },
     "execution_count": 11,
     "metadata": {},
     "output_type": "execute_result"
    }
   ],
   "source": [
    "\n",
    "scenes_even = ['k0_',  'k2_', 'k4_', 'k6_', 'k8_', 'k10_', 'c0_', 'c2_', 'c4_', 'c6_', 'c8_', 'c10_']\n",
    "\n",
    "scenes_odd = ['k1_', 'k3_', 'k5_', 'k7_', 'k9_', 'k11_', 'c1_', 'c3_', 'c5_', 'c7_','c9_', 'c11_']\n",
    "\n",
    "objects = ['large_binderclip', 'large_toaster', 'large_clipboard', 'large_spoon', 'large_eraser', 'large_sponge', 'large_flashdrive', 'large_saltshaker', 'large_laptop', 'large_kettle',  'large_notebook', 'large_pot']\n",
    "\n",
    "\n",
    "len(scenes_even), len(scenes_odd), len(set(objects))\n"
   ]
  },
  {
   "cell_type": "code",
   "execution_count": null,
   "metadata": {},
   "outputs": [],
   "source": []
  },
  {
   "cell_type": "code",
   "execution_count": 5,
   "metadata": {},
   "outputs": [],
   "source": [
    "main_seqs_even = []\n",
    "for i in range(len(scenes_even)):\n",
    "    seq = []\n",
    "    for i in range(len(scenes_even)):\n",
    "        seq.append(scenes_even[i]+objects[i])\n",
    "    main_seqs_even.append(seq)\n",
    "    objects = rotate(objects)\n",
    "    "
   ]
  },
  {
   "cell_type": "code",
   "execution_count": 9,
   "metadata": {},
   "outputs": [
    {
     "data": {
      "text/plain": [
       "['k0_large_pot',\n",
       " 'k2_large_binderclip',\n",
       " 'k4_large_toaster',\n",
       " 'k6_large_clipboard',\n",
       " 'k8_large_spoon',\n",
       " 'k10_large_eraser',\n",
       " 'c0_large_sponge',\n",
       " 'c2_large_flashdrive',\n",
       " 'c4_large_saltshaker',\n",
       " 'c6_large_laptop',\n",
       " 'c8_large_kettle',\n",
       " 'c10_large_notebook']"
      ]
     },
     "execution_count": 9,
     "metadata": {},
     "output_type": "execute_result"
    }
   ],
   "source": [
    "main_seqs_even[1]"
   ]
  },
  {
   "cell_type": "code",
   "execution_count": 7,
   "metadata": {},
   "outputs": [],
   "source": [
    "main_seqs_odd = []\n",
    "\n",
    "for i in range(len(scenes_odd)):\n",
    "    seq = []\n",
    "    for i in range(len(scenes_odd)):\n",
    "        seq.append(scenes_odd[i]+objects[i])\n",
    "    main_seqs_odd.append(seq)\n",
    "    objects = rotate(objects)\n",
    "    "
   ]
  },
  {
   "cell_type": "code",
   "execution_count": 8,
   "metadata": {},
   "outputs": [
    {
     "data": {
      "text/plain": [
       "['k1_large_binderclip',\n",
       " 'k3_large_toaster',\n",
       " 'k5_large_clipboard',\n",
       " 'k7_large_spoon',\n",
       " 'k9_large_eraser',\n",
       " 'k11_large_sponge',\n",
       " 'c1_large_flashdrive',\n",
       " 'c3_large_saltshaker',\n",
       " 'c5_large_laptop',\n",
       " 'c7_large_kettle',\n",
       " 'c9_large_notebook',\n",
       " 'c11_large_pot']"
      ]
     },
     "execution_count": 8,
     "metadata": {},
     "output_type": "execute_result"
    }
   ],
   "source": [
    "main_seqs_odd[0]"
   ]
  },
  {
   "cell_type": "code",
   "execution_count": 15,
   "metadata": {},
   "outputs": [
    {
     "data": {
      "text/plain": [
       "'[\"c8_large_notebook\", \"c2_large_saltshaker\", \"c0_large_flashdrive\", \"c10_large_pot\", \"k8_large_eraser\", \"k0_large_binderclip\", \"k2_large_toaster\", \"c6_large_kettle\", \"k6_large_spoon\", \"c4_large_laptop\", \"k10_large_sponge\", \"k4_large_clipboard\"]'"
      ]
     },
     "execution_count": 15,
     "metadata": {},
     "output_type": "execute_result"
    }
   ],
   "source": [
    "jsonString = json.dumps(main_seqs_even[0])\n",
    "jsonString"
   ]
  },
  {
   "cell_type": "code",
   "execution_count": 16,
   "metadata": {},
   "outputs": [],
   "source": [
    "dest = '/Users/prachimahableshwarkar/Documents/GW/FacialAge/FacialAge_MTurk/OSS_Exp2_MTurk/jsons/'\n",
    "i = 0\n",
    "for seq in main_seqs_even:\n",
    "    random.shuffle(seq)\n",
    "    seq_json = json.dumps(seq)\n",
    "    with open(dest + \"s\" + str(i) +\"_even.json\", \"w\") as outfile:\n",
    "        outfile.write(seq_json)\n",
    "    i += 1"
   ]
  },
  {
   "cell_type": "code",
   "execution_count": 17,
   "metadata": {},
   "outputs": [],
   "source": [
    "dest = '/Users/prachimahableshwarkar/Documents/GW/FacialAge/FacialAge_MTurk/OSS_Exp2_MTurk/jsons/'\n",
    "i = 0\n",
    "for seq in main_seqs_odd:\n",
    "    random.shuffle(seq)\n",
    "    seq_json = json.dumps(seq)\n",
    "    with open(dest + \"s\" + str(i) +\"_odd.json\", \"w\") as outfile:\n",
    "        outfile.write(seq_json)\n",
    "    i += 1"
   ]
  },
  {
   "cell_type": "code",
   "execution_count": 31,
   "metadata": {},
   "outputs": [
    {
     "data": {
      "text/plain": [
       "(12, 12)"
      ]
     },
     "execution_count": 31,
     "metadata": {},
     "output_type": "execute_result"
    }
   ],
   "source": [
    "# set in javascript file\n",
    "sideConds = [\"L\",\"L\",\"L\",\"L\",\"L\",\"L\",\"R\",\"R\",\"R\",\"R\",\"R\",\"R\"]\n",
    "gaborConds = [\"H\",\"V\",\"H\",\"V\",\"H\",\"V\",\"H\",\"V\",\"H\",\"V\",\"H\",\"V\"]\n",
    "\n",
    "len(sideConds), len(gaborConds)"
   ]
  },
  {
   "cell_type": "markdown",
   "metadata": {},
   "source": [
    "## Make Counterbalancing CSV"
   ]
  },
  {
   "cell_type": "code",
   "execution_count": 4,
   "metadata": {},
   "outputs": [],
   "source": [
    "import os\n",
    "import csv\n",
    "\n",
    "jsons_path = '/Users/prachimahableshwarkar/Documents/GW/FacialAge/FacialAge_MTurk/OSS_Exp2_MTurk/jsons'\n",
    "\n",
    "paths = []\n",
    "# number of repetitions for each sequence \n",
    "reps = 8\n",
    "for i in range(reps):\n",
    "    for json in os.listdir(jsons_path):\n",
    "        if '.json' in json:\n",
    "            paths.append({'Path':'jsons/' + json, 'Sampled': 0})\n"
   ]
  },
  {
   "cell_type": "code",
   "execution_count": 5,
   "metadata": {},
   "outputs": [],
   "source": [
    "# csv header\n",
    "fieldnames = ['Path', 'Sampled']\n",
    "\n",
    "# csv data\n",
    "rows = paths\n",
    "\n",
    "dest = '/Users/prachimahableshwarkar/Documents/GW/FacialAge/FacialAge_MTurk/OSS_Exp2_MTurk/'\n",
    "\n",
    "with open(dest + 'counterbalancing.csv', 'w', encoding='UTF8', newline='') as f:\n",
    "    writer = csv.DictWriter(f, fieldnames=fieldnames)\n",
    "    writer.writeheader()\n",
    "    writer.writerows(rows)"
   ]
  },
  {
   "cell_type": "code",
   "execution_count": null,
   "metadata": {},
   "outputs": [],
   "source": []
  }
 ],
 "metadata": {
  "kernelspec": {
   "display_name": "Python 3",
   "language": "python",
   "name": "python3"
  },
  "language_info": {
   "codemirror_mode": {
    "name": "ipython",
    "version": 3
   },
   "file_extension": ".py",
   "mimetype": "text/x-python",
   "name": "python",
   "nbconvert_exporter": "python",
   "pygments_lexer": "ipython3",
   "version": "3.7.5"
  }
 },
 "nbformat": 4,
 "nbformat_minor": 4
}
