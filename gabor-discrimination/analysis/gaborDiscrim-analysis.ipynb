{
 "cells": [
  {
   "cell_type": "markdown",
   "metadata": {},
   "source": [
    "# Gabor Discrimination Analysis"
   ]
  },
  {
   "cell_type": "code",
   "execution_count": 1,
   "metadata": {},
   "outputs": [],
   "source": [
    "import numpy as np\n",
    "import os\n",
    "import pandas as pd\n",
    "import math\n",
    "import matplotlib.pyplot as plt\n",
    "from scipy.stats import sem\n"
   ]
  },
  {
   "cell_type": "markdown",
   "metadata": {},
   "source": [
    "### Exclusion Criteria\n",
    "\n",
    "Pre-registered on OSF: https://osf.io/fuhpm\n",
    "    "
   ]
  },
  {
   "cell_type": "code",
   "execution_count": 116,
   "metadata": {},
   "outputs": [],
   "source": [
    "def combineCSVs(datafolder):\n",
    "    \"\"\"\n",
    "    Combine all participant data into one pandas df\n",
    "    OR \n",
    "    Create df for single participant file \n",
    "    \"\"\"\n",
    "    \n",
    "    exclude = []\n",
    "    \n",
    "    #checks if path is a file\n",
    "    isFile = os.path.isfile(datafolder)\n",
    "\n",
    "    #checks if path is a directory\n",
    "    \n",
    "    isDirectory = os.path.isdir(datafolder)\n",
    "    \n",
    "    if isDirectory == True:\n",
    "        data = []\n",
    "        for filename in os.listdir(datafolder):\n",
    "            if 'csv' in filename:\n",
    "                path = datafolder + \"/\" + filename\n",
    "                df = pd.read_csv(path, index_col=None, header=0)\n",
    "                if df.experimentName.unique()=='Gabor-Discrimination':\n",
    "                    if df.versionName.unique()=='v2':\n",
    "                        subjID = df.subjID.unique()[0]\n",
    "                        if subjID not in exclude:\n",
    "                            data.append(df)\n",
    "\n",
    "                \n",
    "        input_frame = pd.concat(data, axis=0, ignore_index=True)\n",
    "        \n",
    "    if isFile == True:\n",
    "        if 'csv' in datafolder:\n",
    "            input_frame = pd.read_csv(datafolder, index_col=None, header=0)\n",
    "    \n",
    "    print('Number of participants before cleaning: ', len(input_frame.subjID.unique()))\n",
    "\n",
    " \n",
    "    return input_frame"
   ]
  },
  {
   "cell_type": "code",
   "execution_count": 117,
   "metadata": {},
   "outputs": [],
   "source": [
    "\n",
    "data_path = '/Users/prachimahableshwarkar/Documents/GW/FacialAge/FacialAge_MTurk/OSS_Exp2_MTurk/data'"
   ]
  },
  {
   "cell_type": "code",
   "execution_count": 118,
   "metadata": {},
   "outputs": [
    {
     "name": "stdout",
     "output_type": "stream",
     "text": [
      "Number of participants before cleaning:  264\n"
     ]
    }
   ],
   "source": [
    "input_data = combineCSVs(data_path)"
   ]
  },
  {
   "cell_type": "code",
   "execution_count": 119,
   "metadata": {},
   "outputs": [],
   "source": [
    "num_trials = 12"
   ]
  },
  {
   "cell_type": "code",
   "execution_count": 120,
   "metadata": {},
   "outputs": [],
   "source": [
    "def cleanbyPracticeTries(df, num_allowed_tries):\n",
    "    all_subjIDs = df.subjID.unique()\n",
    "    \n",
    "    remove = []\n",
    "    df2_list = []\n",
    "    prac_too_many_dist = []\n",
    "    for subj in all_subjIDs:\n",
    "        count = 0\n",
    "        subj_df = df.loc[df['subjID'] == subj]\n",
    "        cleaned_subj_df = subj_df.copy(deep=True) # prevent setting with copy warning \n",
    "        \n",
    "        subj_num_practice_tries = cleaned_subj_df.pracTries.unique()[0]\n",
    "        \n",
    "        if subj_num_practice_tries > num_allowed_tries:\n",
    "            prac_too_many_dist.append(subj_num_practice_tries)\n",
    "            remove.append(subj)\n",
    "        else:  \n",
    "            df2_list.append(cleaned_subj_df)\n",
    "    \n",
    "    df2 = pd.concat(df2_list)\n",
    "            \n",
    "    print('Number of participants with more than ' + str(num_allowed_tries) + ' practice tries:', len(remove))\n",
    "    \n",
    "    return df2, prac_too_many_dist\n",
    "    "
   ]
  },
  {
   "cell_type": "code",
   "execution_count": 121,
   "metadata": {},
   "outputs": [
    {
     "name": "stdout",
     "output_type": "stream",
     "text": [
      "Number of participants with more than 3 practice tries: 18\n"
     ]
    }
   ],
   "source": [
    "pracTries_cleaned_data, prac_dist = cleanbyPracticeTries(input_data, 3)"
   ]
  },
  {
   "cell_type": "code",
   "execution_count": 122,
   "metadata": {},
   "outputs": [
    {
     "data": {
      "text/plain": [
       "246"
      ]
     },
     "execution_count": 122,
     "metadata": {},
     "output_type": "execute_result"
    }
   ],
   "source": [
    "len(pracTries_cleaned_data.subjID.unique())"
   ]
  },
  {
   "cell_type": "code",
   "execution_count": 123,
   "metadata": {
    "jupyter": {
     "source_hidden": true
    }
   },
   "outputs": [],
   "source": [
    "def Accuracy_Cleaning(df, accuracy_threshold, num_trials):\n",
    "    \"\"\"    \n",
    "    Remove participants with overall accuracy below the accuracy threshold (e.g. 0.7)\n",
    "    \n",
    "    Returns:\n",
    "        data of participants that passed the accuracy threshold \n",
    "        list of the number of correct trials each participant got\n",
    "    \"\"\"\n",
    "    #List unique values in the df['subjID'] column\n",
    "    all_subjIDs = df.subjID.unique()\n",
    "    \n",
    "    remove = []\n",
    "    df2_list = []\n",
    "    list_trials_correct = []\n",
    "    # number of participants where exclusion is because all responses were 'none'\n",
    "    c = 0\n",
    "    \n",
    "    for subj in all_subjIDs:\n",
    "        keypresses = []\n",
    "\n",
    "        subj_df = df.loc[df['subjID'] == subj]\n",
    "        cleaned_subj_df = subj_df.copy(deep=True) # prevent setting with copy warning \n",
    "        \n",
    "        subj_num_correct_trials = 0\n",
    "        \n",
    "        acc_column = np.array(list(subj_df['accuracy']))\n",
    "        sum_acc = np.sum(acc_column)\n",
    "        \n",
    "        \n",
    "        for idx, row in subj_df.iterrows():\n",
    "            trial_acc = row['accuracy']\n",
    "            if trial_acc == 1:\n",
    "                subj_num_correct_trials += 1\n",
    "            else:\n",
    "                keypresses.append(row['keyPress'])\n",
    "        \n",
    "        subj_acc = sum_acc/num_trials\n",
    "#         print(acc_column)\n",
    "#         print(subj, sum_acc, subj_acc)\n",
    "                \n",
    "        # minimum number of trials correct the participant must have to be included\n",
    "        if subj_acc < accuracy_threshold:\n",
    "#             print(subj_acc, subj)\n",
    "            remove.append(subj)\n",
    "#             print(len([x for x in keypresses if x == 'none']))\n",
    "            if len([x for x in keypresses if x == 'none']) >= 4:\n",
    "                c += 1\n",
    "            \n",
    "#         else:\n",
    "#             print(subj_acc)\n",
    "        \n",
    "        list_trials_correct.append(subj_num_correct_trials)\n",
    "        \n",
    "        df2_list.append(cleaned_subj_df)\n",
    "    \n",
    "    df2 = pd.concat(df2_list)\n",
    "    \n",
    "    print(\"Number of Participants with accuracy below 70%: \", len(remove))\n",
    "    \n",
    "    for index, row in df2.iterrows():\n",
    "        if row['subjID'] in remove:\n",
    "            df2.drop(index, inplace=True)\n",
    "                \n",
    "    print('Number of participants that did not respond for 4 or more trials:', c)\n",
    "    \n",
    "    print('Number of participants left: ', len(df2.subjID.unique()))\n",
    "                \n",
    "    return df2, list_trials_correct, keypresses"
   ]
  },
  {
   "cell_type": "code",
   "execution_count": null,
   "metadata": {},
   "outputs": [],
   "source": []
  },
  {
   "cell_type": "code",
   "execution_count": 124,
   "metadata": {},
   "outputs": [
    {
     "name": "stdout",
     "output_type": "stream",
     "text": [
      "Number of Participants with accuracy below 70%:  35\n",
      "Number of participants that did not respond for 4 or more trials: 0\n",
      "Number of participants left:  211\n"
     ]
    }
   ],
   "source": [
    "Accuracy_cleaned_data, correct_trials_distribution, keypresses = Accuracy_Cleaning(pracTries_cleaned_data, 0.7, num_trials)\n"
   ]
  },
  {
   "cell_type": "code",
   "execution_count": 125,
   "metadata": {
    "jupyter": {
     "source_hidden": true
    }
   },
   "outputs": [],
   "source": [
    "def RT_Cleaning(df, outlier_range, num_trials):\n",
    "    \"\"\"\n",
    "    Remove trials where trial RT is outside of the defined outlier range \n",
    "    \n",
    "    Returns:\n",
    "        dataframe with outlier RT trials removed\n",
    "        list of all RTs \n",
    "    \"\"\"\n",
    "    #List unique values in the df['subjID'] column\n",
    "    all_subjIDs = df.subjID.unique()\n",
    "    print(len(all_subjIDs))\n",
    "    \n",
    "    remove = []\n",
    "    df2_list = []\n",
    "    total_RT_outliers = 0\n",
    "    total = 0\n",
    "    list_trialRT = []\n",
    "    for subj in all_subjIDs:\n",
    "        count = 0\n",
    "        subj_df = df.loc[df['subjID'] == subj]\n",
    "        cleaned_subj_df = subj_df.copy(deep=True) # prevent setting with copy warning \n",
    "\n",
    "        for idx, row in subj_df.iterrows():\n",
    "            total += 1\n",
    "            RT = row[\"RT\"]\n",
    "            list_trialRT.append(RT)\n",
    "            if RT < outlier_range[0]: # outlier\n",
    "                cleaned_subj_df.drop([idx], inplace=True)\n",
    "                count += 1\n",
    "                total_RT_outliers += 1\n",
    "            if RT > outlier_range[1]:\n",
    "                cleaned_subj_df.drop([idx], inplace=True)\n",
    "                count += 1\n",
    "                total_RT_outliers += 1\n",
    "        \n",
    "        df2_list.append(cleaned_subj_df)\n",
    "    \n",
    "    df2 = pd.concat(df2_list)\n",
    "    print(len(df2.subjID.unique()))\n",
    "                \n",
    "    return df2, list_trialRT"
   ]
  },
  {
   "cell_type": "code",
   "execution_count": 126,
   "metadata": {},
   "outputs": [
    {
     "name": "stdout",
     "output_type": "stream",
     "text": [
      "211\n",
      "210\n"
     ]
    }
   ],
   "source": [
    "RT_cleaned_data, trialRTs_distribution = RT_Cleaning(Accuracy_cleaned_data, [250, 5000], num_trials)\n"
   ]
  },
  {
   "cell_type": "code",
   "execution_count": 131,
   "metadata": {
    "jupyter": {
     "source_hidden": true
    }
   },
   "outputs": [],
   "source": [
    "def finalTrialCountCheck(df, num_trials, min_trials):\n",
    "    \"\"\"\n",
    "    If more then 10% of a participants data is missing, remove the participant\n",
    "    \"\"\"\n",
    "    #List unique values in the df['subjID'] column\n",
    "    all_subjIDs = df.subjID.unique()\n",
    "    \n",
    "    remove = []\n",
    "    for subj in all_subjIDs:\n",
    "        subj_df = df.loc[df['subjID'] == subj]\n",
    "        count_trials = len(subj_df.index)\n",
    "        if count_trials < min_trials:\n",
    "            remove.append(subj)\n",
    "            \n",
    "#         threshold_trials_remaining = num_trials - math.floor(num_trials * 0.1)\n",
    "\n",
    "#         if count_trials <= threshold_trials_remaining:\n",
    "#             remove.append(subj)\n",
    "            \n",
    "    print(\"Number of Participants with >= 10% trials removed: \", len(remove))\n",
    "            \n",
    "    for subj in remove:\n",
    "        df.drop(df[df['subjID'] == subj].index, inplace = True) \n",
    "                    \n",
    "    print(\"Number of participants left: \",len(df.subjID.unique()))\n",
    "    return df"
   ]
  },
  {
   "cell_type": "code",
   "execution_count": 132,
   "metadata": {},
   "outputs": [
    {
     "name": "stdout",
     "output_type": "stream",
     "text": [
      "Number of Participants with >= 10% trials removed:  18\n",
      "Number of participants left:  192\n"
     ]
    }
   ],
   "source": [
    "finalTrialCount_data = finalTrialCountCheck(RT_cleaned_data, num_trials, 11)"
   ]
  },
  {
   "cell_type": "code",
   "execution_count": 133,
   "metadata": {},
   "outputs": [
    {
     "data": {
      "text/plain": [
       "192"
      ]
     },
     "execution_count": 133,
     "metadata": {},
     "output_type": "execute_result"
    }
   ],
   "source": [
    "raw_final_data = finalTrialCount_data.copy(deep=True)\n",
    "len(raw_final_data.subjID.unique())"
   ]
  },
  {
   "cell_type": "code",
   "execution_count": 136,
   "metadata": {},
   "outputs": [],
   "source": [
    "def zscored_outcomes(df):\n",
    "    '''\n",
    "    z-score depth estimates and RTs:\n",
    "        for each subj calculate their avg and std \n",
    "        zscored = (estim - subj avg)/subj std\n",
    "    '''\n",
    "    #List unique values in the df['subjID'] column\n",
    "    all_subjIDs = df.subjID.unique()\n",
    "    \n",
    "    df2_list = []\n",
    "    for subj in all_subjIDs:\n",
    "        subj_df = df.loc[df['subjID'] == subj]\n",
    "        final_subj_df = subj_df.copy(deep=True) # prevent setting with copy warning \n",
    "        # Z-Score RT\n",
    "        average_RT = subj_df[\"RT\"].mean()\n",
    "        std_RT = subj_df[\"RT\"].std()\n",
    "        subj_RTs = np.array(list(subj_df[\"RT\"]))\n",
    "        zscored_subj_RTs = (subj_RTs - average_RT)/std_RT\n",
    "        final_subj_df.insert(4, 'Z-Scored RT',zscored_subj_RTs)\n",
    "        df2_list.append(final_subj_df)\n",
    "    \n",
    "    df2 = pd.concat(df2_list)    \n",
    "\n",
    "    return df2"
   ]
  },
  {
   "cell_type": "code",
   "execution_count": 137,
   "metadata": {},
   "outputs": [],
   "source": [
    "zs_final_data = zscored_outcomes(raw_final_data)"
   ]
  },
  {
   "cell_type": "code",
   "execution_count": 138,
   "metadata": {},
   "outputs": [],
   "source": [
    "final_data = zs_final_data.copy(deep=True)"
   ]
  },
  {
   "cell_type": "code",
   "execution_count": 139,
   "metadata": {},
   "outputs": [],
   "source": [
    "def add_image_col(df):\n",
    "    \"\"\"\n",
    "    \"\"\"\n",
    "    image_col = []\n",
    "    \n",
    "    for idx, row in df.iterrows():\n",
    "        image_col.append(row['image'][:-6])\n",
    "\n",
    "    \n",
    "    return np.array(image_col)"
   ]
  },
  {
   "cell_type": "code",
   "execution_count": 140,
   "metadata": {},
   "outputs": [],
   "source": [
    "image_column = add_image_col(final_data)\n",
    "\n",
    "# # add misscaled column to dataframe \n",
    "final_data.insert(14, \"image_name\", image_column)\n"
   ]
  },
  {
   "cell_type": "code",
   "execution_count": 141,
   "metadata": {},
   "outputs": [],
   "source": [
    "def add_size_col(df):\n",
    "    \"\"\"\n",
    "    \"\"\"\n",
    "    big_objects = ['clipboard', 'kettle', 'laptop', 'notebook', 'pot', 'toaster']\n",
    "    small_objects = ['binderclip', 'eraser', 'flashdrive', 'saltshaker', 'sponge', 'spoon']\n",
    "    \n",
    "    size_col = []\n",
    "    \n",
    "    for idx, row in df.iterrows():\n",
    "        obj = row['object']\n",
    "        presentationSize = row['presentationSize']\n",
    "        if obj in big_objects:\n",
    "            if presentationSize == 'large':\n",
    "                size_col.append('canonical')\n",
    "            if presentationSize =='small':\n",
    "                size_col.append('tooSmall')\n",
    "        if obj in small_objects:\n",
    "            if presentationSize == 'large':\n",
    "                size_col.append('tooBig')\n",
    "            if presentationSize =='small':\n",
    "                size_col.append('canonical')\n",
    "                \n",
    "        size_col.append(row['image'][:-6])\n",
    "\n",
    "    \n",
    "    return np.array(size_col)"
   ]
  },
  {
   "cell_type": "code",
   "execution_count": 142,
   "metadata": {},
   "outputs": [],
   "source": [
    "size_column = add_size_col(final_data)\n",
    "\n",
    "# # add misscaled column to dataframe \n",
    "final_data.insert(14, \"size_name\", image_column)\n"
   ]
  },
  {
   "cell_type": "code",
   "execution_count": 143,
   "metadata": {},
   "outputs": [],
   "source": [
    "final_data = final_data.copy(deep=True)"
   ]
  },
  {
   "cell_type": "code",
   "execution_count": 145,
   "metadata": {},
   "outputs": [
    {
     "data": {
      "text/plain": [
       "192"
      ]
     },
     "execution_count": 145,
     "metadata": {},
     "output_type": "execute_result"
    }
   ],
   "source": [
    "len(final_data.subjID.unique())"
   ]
  },
  {
   "cell_type": "code",
   "execution_count": 28,
   "metadata": {},
   "outputs": [],
   "source": [
    "def add_cannonicalSize_col(df):\n",
    "    \"\"\"\n",
    "    \"\"\"\n",
    "    big_objects = ['clipboard', 'kettle', 'laptop', 'notebook', 'pot', 'toaster']\n",
    "    small_objects = ['binderclip', 'eraser', 'flashdrive', 'saltshaker', 'sponge', 'spoon']\n",
    "    \n",
    "    cannonicalSize_col = []\n",
    "    \n",
    "    for idx, row in df.iterrows():\n",
    "        obj = row['object']\n",
    "        if obj in big_objects:\n",
    "            cannonicalSize_col.append('large')\n",
    "        if obj in small_objects:\n",
    "            cannonicalSize_col.append('small') \n",
    "    \n",
    "    return np.array(cannonicalSize_col)"
   ]
  },
  {
   "cell_type": "code",
   "execution_count": 31,
   "metadata": {},
   "outputs": [],
   "source": [
    "cannonicalSize_column = add_cannonicalSize_col(final_data)\n"
   ]
  },
  {
   "cell_type": "code",
   "execution_count": 32,
   "metadata": {},
   "outputs": [],
   "source": [
    "\n",
    "# add cannonical size column to dataframe \n",
    "final_data.insert(14, \"cannonical_size\", cannonicalSize_column)"
   ]
  },
  {
   "cell_type": "code",
   "execution_count": 33,
   "metadata": {},
   "outputs": [],
   "source": [
    "final_data.to_csv('gabor-discrim-data.csv', index=False)"
   ]
  },
  {
   "cell_type": "markdown",
   "metadata": {},
   "source": [
    "### Read in data if outlier exclusion pipeline has already been run through"
   ]
  },
  {
   "cell_type": "code",
   "execution_count": 2,
   "metadata": {},
   "outputs": [],
   "source": [
    "final_data = pd.read_csv('gabor-discrim-data.csv')"
   ]
  },
  {
   "cell_type": "markdown",
   "metadata": {},
   "source": [
    "## Accuracy\n",
    "\n",
    "#### Factors of interest: scale, objSceneSemCong\n",
    "\n",
    "Presentation size is always large in this design"
   ]
  },
  {
   "cell_type": "code",
   "execution_count": 4,
   "metadata": {},
   "outputs": [],
   "source": [
    "def get_proportion_correct(df):\n",
    "    '''\n",
    "    get proportion correct, and standard error \n",
    "    '''\n",
    "    length = len(np.array(df['accuracy']))\n",
    "\n",
    "    pc = np.sum(np.array(df['accuracy']))/length\n",
    "    sem = np.std(np.array(df['accuracy']))/np.sqrt(length)\n",
    "\n",
    "    return pc, sem, np.array(df['accuracy'])\n"
   ]
  },
  {
   "cell_type": "code",
   "execution_count": 5,
   "metadata": {},
   "outputs": [
    {
     "data": {
      "text/plain": [
       "(0.9558566433566433, 0.004294385702404959)"
      ]
     },
     "execution_count": 5,
     "metadata": {},
     "output_type": "execute_result"
    }
   ],
   "source": [
    "overall_acc, overall_sem, all_acc_responses = get_proportion_correct(final_data)\n",
    "overall_acc, overall_sem"
   ]
  },
  {
   "cell_type": "markdown",
   "metadata": {},
   "source": [
    "### Test for main effect of scale"
   ]
  },
  {
   "cell_type": "code",
   "execution_count": 6,
   "metadata": {},
   "outputs": [
    {
     "data": {
      "text/plain": [
       "(0.9642545771578029, 0.9474145486415425)"
      ]
     },
     "execution_count": 6,
     "metadata": {},
     "output_type": "execute_result"
    }
   ],
   "source": [
    "scaled_acc, scaled_sem, scaled_acc_responses = get_proportion_correct(final_data.loc[final_data['scale']=='scaled'])\n",
    "misscaled_acc, misscaled_sem, misscaled_acc_responses = get_proportion_correct(final_data.loc[final_data['scale']=='misscaled'])\n",
    "\n",
    "scaled_acc, misscaled_acc"
   ]
  },
  {
   "cell_type": "code",
   "execution_count": 5,
   "metadata": {},
   "outputs": [],
   "source": [
    "from scipy.stats import ttest_rel\n",
    "import random\n",
    "\n",
    "def run_ttest(list0, list1):\n",
    "    if len(list0) != len(list1):\n",
    "        size = min(len(list0), len(list1))\n",
    "        # print(size)\n",
    "        # print(len(list0), len(list1))\n",
    "        sampled_list0 = random.sample(list0, size)\n",
    "        sampled_list1 = random.sample(list1, size)\n",
    "    else:\n",
    "        sampled_list0 = list0\n",
    "        sampled_list1 = list1\n",
    "\n",
    "    t_statistic, p_value = ttest_rel(sampled_list0, sampled_list1)\n",
    "\n",
    "    return t_statistic, p_value\n",
    "\n",
    "\n",
    "def main_ttest(reps, list0, list1):\n",
    "    t_vals = []\n",
    "    p_vals = []\n",
    "    for i in range(reps):\n",
    "        tv, pv = run_ttest(list0, list1)\n",
    "        t_vals.append(tv)\n",
    "        p_vals.append(pv)\n",
    "\n",
    "    return np.mean(np.array(t_vals)), np.mean(np.array(p_vals))"
   ]
  },
  {
   "cell_type": "code",
   "execution_count": null,
   "metadata": {},
   "outputs": [],
   "source": []
  },
  {
   "cell_type": "code",
   "execution_count": 12,
   "metadata": {},
   "outputs": [
    {
     "name": "stdout",
     "output_type": "stream",
     "text": [
      "Scaled vs Misscaled\n"
     ]
    },
    {
     "data": {
      "text/plain": [
       "(1.9592869819768646, 0.05070443234217701)"
      ]
     },
     "execution_count": 12,
     "metadata": {},
     "output_type": "execute_result"
    }
   ],
   "source": [
    "print('Scaled vs Misscaled')\n",
    "main_ttest(10000, scaled_acc_responses.tolist(), misscaled_acc_responses.tolist())\n"
   ]
  },
  {
   "cell_type": "code",
   "execution_count": 155,
   "metadata": {},
   "outputs": [
    {
     "data": {
      "image/png": "[encoded data removed]",
      "text/plain": [
       "<Figure size 720x720 with 1 Axes>"
      ]
     },
     "metadata": {
      "needs_background": "light"
     },
     "output_type": "display_data"
    }
   ],
   "source": [
    "fig, ax = plt.subplots(figsize=[10,10])\n",
    "ax.spines['right'].set_visible(False)\n",
    "ax.spines['top'].set_visible(False)\n",
    "for axis in ['bottom','left']:\n",
    "    ax.spines[axis].set_linewidth(2.3)\n",
    "    \n",
    "data_scale = {'Misscaled':misscaled_acc, 'Scaled':scaled_acc}\n",
    "\n",
    "   \n",
    "# creating the bar plot\n",
    "plt.bar(list(data_scale.keys()), list(data_scale.values()), color ='lightgreen', alpha=0.7,\n",
    "        width = 0.4, yerr=[misscaled_sem, scaled_sem], capsize=5)\n",
    "\n",
    "\n",
    "plt.xticks(fontsize=18) \n",
    "plt.yticks(fontsize=16) \n",
    "plt.ylim(0.8)\n",
    "plt.ylabel(\"Accuracy\", fontsize=18)\n",
    "plt.show()"
   ]
  },
  {
   "cell_type": "markdown",
   "metadata": {},
   "source": [
    "### Test for main effect of object-scene semantic congruency\n",
    "\n",
    "objSceneSemIncong = 0\n",
    "\n",
    "objSceneSemCong = 1"
   ]
  },
  {
   "cell_type": "code",
   "execution_count": 156,
   "metadata": {},
   "outputs": [
    {
     "data": {
      "text/plain": [
       "(0.9554973821989529, 0.9562171628721541)"
      ]
     },
     "execution_count": 156,
     "metadata": {},
     "output_type": "execute_result"
    }
   ],
   "source": [
    "cong_acc, cong_sem, cong_acc_responses = get_proportion_correct(final_data.loc[final_data['objSceneSemCong']== 1])\n",
    "incong_acc, incong_sem, incong_acc_responses = get_proportion_correct(final_data.loc[final_data['objSceneSemCong']== 0])\n",
    "\n",
    "cong_acc, incong_acc"
   ]
  },
  {
   "cell_type": "code",
   "execution_count": 157,
   "metadata": {},
   "outputs": [
    {
     "name": "stdout",
     "output_type": "stream",
     "text": [
      "1146 1142\n"
     ]
    },
    {
     "ename": "ValueError",
     "evalue": "unequal length arrays",
     "output_type": "error",
     "traceback": [
      "\u001b[0;31m---------------------------------------------------------------------------\u001b[0m",
      "\u001b[0;31mValueError\u001b[0m                                Traceback (most recent call last)",
      "\u001b[0;32m<ipython-input-157-7980e2034eb4>\u001b[0m in \u001b[0;36m<module>\u001b[0;34m\u001b[0m\n\u001b[1;32m      3\u001b[0m \u001b[0mprint\u001b[0m\u001b[0;34m(\u001b[0m\u001b[0mlen\u001b[0m\u001b[0;34m(\u001b[0m\u001b[0mcong_acc_responses\u001b[0m\u001b[0;34m)\u001b[0m\u001b[0;34m,\u001b[0m \u001b[0mlen\u001b[0m\u001b[0;34m(\u001b[0m\u001b[0mincong_acc_responses\u001b[0m\u001b[0;34m)\u001b[0m\u001b[0;34m)\u001b[0m\u001b[0;34m\u001b[0m\u001b[0;34m\u001b[0m\u001b[0m\n\u001b[1;32m      4\u001b[0m \u001b[0;34m\u001b[0m\u001b[0m\n\u001b[0;32m----> 5\u001b[0;31m \u001b[0mt_statistic\u001b[0m\u001b[0;34m,\u001b[0m \u001b[0mp_value\u001b[0m \u001b[0;34m=\u001b[0m \u001b[0mttest_rel\u001b[0m\u001b[0;34m(\u001b[0m\u001b[0mcong_acc_responses\u001b[0m\u001b[0;34m[\u001b[0m\u001b[0;34m:\u001b[0m\u001b[0;34m-\u001b[0m\u001b[0;36m3\u001b[0m\u001b[0;34m]\u001b[0m\u001b[0;34m,\u001b[0m \u001b[0mincong_acc_responses\u001b[0m\u001b[0;34m)\u001b[0m\u001b[0;34m\u001b[0m\u001b[0;34m\u001b[0m\u001b[0m\n\u001b[0m\u001b[1;32m      6\u001b[0m \u001b[0;34m\u001b[0m\u001b[0m\n\u001b[1;32m      7\u001b[0m \u001b[0mprint\u001b[0m\u001b[0;34m(\u001b[0m\u001b[0;34m\"T-statistic:\"\u001b[0m\u001b[0;34m,\u001b[0m \u001b[0mt_statistic\u001b[0m\u001b[0;34m)\u001b[0m\u001b[0;34m\u001b[0m\u001b[0;34m\u001b[0m\u001b[0m\n",
      "\u001b[0;32m~/opt/anaconda3/envs/defaultenv/lib/python3.7/site-packages/scipy/stats/stats.py\u001b[0m in \u001b[0;36mttest_rel\u001b[0;34m(a, b, axis, nan_policy)\u001b[0m\n\u001b[1;32m   4651\u001b[0m \u001b[0;34m\u001b[0m\u001b[0m\n\u001b[1;32m   4652\u001b[0m     \u001b[0;32mif\u001b[0m \u001b[0ma\u001b[0m\u001b[0;34m.\u001b[0m\u001b[0mshape\u001b[0m\u001b[0;34m[\u001b[0m\u001b[0maxis\u001b[0m\u001b[0;34m]\u001b[0m \u001b[0;34m!=\u001b[0m \u001b[0mb\u001b[0m\u001b[0;34m.\u001b[0m\u001b[0mshape\u001b[0m\u001b[0;34m[\u001b[0m\u001b[0maxis\u001b[0m\u001b[0;34m]\u001b[0m\u001b[0;34m:\u001b[0m\u001b[0;34m\u001b[0m\u001b[0;34m\u001b[0m\u001b[0m\n\u001b[0;32m-> 4653\u001b[0;31m         \u001b[0;32mraise\u001b[0m \u001b[0mValueError\u001b[0m\u001b[0;34m(\u001b[0m\u001b[0;34m'unequal length arrays'\u001b[0m\u001b[0;34m)\u001b[0m\u001b[0;34m\u001b[0m\u001b[0;34m\u001b[0m\u001b[0m\n\u001b[0m\u001b[1;32m   4654\u001b[0m \u001b[0;34m\u001b[0m\u001b[0m\n\u001b[1;32m   4655\u001b[0m     \u001b[0;32mif\u001b[0m \u001b[0ma\u001b[0m\u001b[0;34m.\u001b[0m\u001b[0msize\u001b[0m \u001b[0;34m==\u001b[0m \u001b[0;36m0\u001b[0m \u001b[0;32mor\u001b[0m \u001b[0mb\u001b[0m\u001b[0;34m.\u001b[0m\u001b[0msize\u001b[0m \u001b[0;34m==\u001b[0m \u001b[0;36m0\u001b[0m\u001b[0;34m:\u001b[0m\u001b[0;34m\u001b[0m\u001b[0;34m\u001b[0m\u001b[0m\n",
      "\u001b[0;31mValueError\u001b[0m: unequal length arrays"
     ]
    }
   ],
   "source": [
    "from scipy.stats import ttest_rel\n",
    "\n",
    "print(len(cong_acc_responses), len(incong_acc_responses))\n",
    "\n",
    "t_statistic, p_value = ttest_rel(cong_acc_responses[:-3], incong_acc_responses)\n",
    "\n",
    "print(\"T-statistic:\", t_statistic)\n",
    "print(\"P-value:\", p_value)"
   ]
  },
  {
   "cell_type": "code",
   "execution_count": 158,
   "metadata": {},
   "outputs": [
    {
     "data": {
      "image/png": "[encoded data removed]",
      "text/plain": [
       "<Figure size 720x720 with 1 Axes>"
      ]
     },
     "metadata": {
      "needs_background": "light"
     },
     "output_type": "display_data"
    }
   ],
   "source": [
    "fig, ax = plt.subplots(figsize=[10,10])\n",
    "ax.spines['right'].set_visible(False)\n",
    "ax.spines['top'].set_visible(False)\n",
    "for axis in ['bottom','left']:\n",
    "    ax.spines[axis].set_linewidth(2.3)\n",
    "    \n",
    "data_OSS = {'Obj-Scene Incongruent':incong_acc, 'Obj-Scene Congruent':cong_acc}\n",
    "\n",
    "   \n",
    "# creating the bar plot\n",
    "plt.bar(list(data_OSS.keys()), list(data_OSS.values()), color ='lightcoral', alpha=0.7,\n",
    "        width = 0.4, yerr=[incong_sem, cong_sem], capsize=5)\n",
    "\n",
    "\n",
    "plt.xticks(fontsize=18) \n",
    "plt.yticks(fontsize=16) \n",
    "plt.ylim(0.8)\n",
    "plt.ylabel(\"Accuracy\", fontsize=18)\n",
    "plt.show()"
   ]
  },
  {
   "cell_type": "code",
   "execution_count": 9,
   "metadata": {},
   "outputs": [
    {
     "data": {
      "text/plain": [
       "dict_keys(['scaled + 1', 'scaled + 0', 'misscaled + 1', 'misscaled + 0'])"
      ]
     },
     "execution_count": 9,
     "metadata": {},
     "output_type": "execute_result"
    }
   ],
   "source": [
    "results_accuracy = {}\n",
    "conditions = {'scale': ['scaled', 'misscaled'], 'objSceneSemCong': [1, 0]}\n",
    "\n",
    "for scale in conditions['scale']:\n",
    "    for objSceneSemCong in conditions['objSceneSemCong']:\n",
    "        combination = f\"{scale} + {objSceneSemCong}\"\n",
    "        combination_df = final_data[(final_data['objSceneSemCong'] == objSceneSemCong) & (final_data['scale'] == scale)]\n",
    "        results_accuracy[combination] = get_proportion_correct(combination_df)\n",
    "        \n",
    "results_accuracy.keys()"
   ]
  },
  {
   "cell_type": "code",
   "execution_count": 160,
   "metadata": {},
   "outputs": [],
   "source": [
    "# print(len(results_accuracy['scaled + 1'][2]), len(results_accuracy['misscaled + 1'][2]))\n",
    "\n",
    "# t_statistic, p_value = ttest_rel(results_accuracy['scaled + 1'][2][:-10], results_accuracy['misscaled + 1'][2])\n",
    "\n",
    "# print(\"T-statistic:\", t_statistic)\n",
    "# print(\"P-value:\", p_value)"
   ]
  },
  {
   "cell_type": "code",
   "execution_count": 3,
   "metadata": {},
   "outputs": [],
   "source": [
    "fig_destination = '/Users/prachimahableshwarkar/Documents/GW/OSS/figures'"
   ]
  },
  {
   "cell_type": "code",
   "execution_count": 11,
   "metadata": {},
   "outputs": [
    {
     "data": {
      "image/png": "[encoded data removed]",
      "text/plain": [
       "<Figure size 720x720 with 1 Axes>"
      ]
     },
     "metadata": {
      "needs_background": "light"
     },
     "output_type": "display_data"
    }
   ],
   "source": [
    "fig, ax = plt.subplots(figsize=[10,10])\n",
    "ax.spines['right'].set_visible(False)\n",
    "ax.spines['top'].set_visible(False)\n",
    "for axis in ['bottom','left']:\n",
    "    ax.spines[axis].set_linewidth(2.3)\n",
    "    \n",
    "x = np.arange(2)\n",
    "\n",
    "#                                     Misscaled                             Scaled\n",
    "Acc_objSemCong =   [results_accuracy['misscaled + 1'][0], results_accuracy['scaled + 1'][0]]\n",
    "yerr_objSemCong =  [results_accuracy['misscaled + 1'][1], results_accuracy['scaled + 1'][1]]\n",
    "\n",
    "\n",
    "Acc_objSemIncong =   [results_accuracy['misscaled + 0'][0], results_accuracy['scaled + 0'][0]]\n",
    "yerr_objSemIncong =  [results_accuracy['misscaled + 0'][1], results_accuracy['scaled + 0'][1]]\n",
    "\n",
    "\n",
    "width = 0.25\n",
    "  \n",
    "# plot data in grouped manner of bar type\n",
    "plt.bar(x-0.3, Acc_objSemCong, width, color='plum', label='C', yerr=yerr_objSemCong, capsize=5)\n",
    "plt.bar(x, Acc_objSemIncong, width, color='darkorchid', label='I', yerr=yerr_objSemIncong, capsize=5)\n",
    "\n",
    "\n",
    "plt.xticks(x, ['Misscaled', 'Scaled'], fontsize='18')\n",
    "plt.ylim(0.80, 1)\n",
    "plt.yticks(fontsize=16) \n",
    "plt.ylabel(\"Percent Correct\", fontsize=18)\n",
    "plt.legend(loc=1, fontsize=15, frameon=False)\n",
    "\n",
    "plt.savefig(fig_destination + '/exp2-acc-scale-x-OSS.png', dpi=300)  # Adjust the dpi value as needed for higher or lower resolution\n",
    "\n",
    "plt.show()"
   ]
  },
  {
   "cell_type": "markdown",
   "metadata": {},
   "source": [
    "## RT: Correct-trials only"
   ]
  },
  {
   "cell_type": "code",
   "execution_count": 6,
   "metadata": {},
   "outputs": [],
   "source": [
    "final_data_CO = final_data.loc[final_data['accuracy']==1]\n",
    "\n",
    "col = 'Z-Scored RT'\n",
    "\n"
   ]
  },
  {
   "cell_type": "code",
   "execution_count": 8,
   "metadata": {},
   "outputs": [],
   "source": [
    "final_data_CO_renamed = final_data_CO.rename(columns={'Z-Scored RT': 'zsRT'})\n",
    "\n",
    "\n",
    "final_data_CO_renamed.to_csv('gabor-discrim-CO_RT.csv', index=False)"
   ]
  },
  {
   "cell_type": "code",
   "execution_count": 9,
   "metadata": {},
   "outputs": [],
   "source": [
    "def get_RT_descriptives(df, col):\n",
    "    '''\n",
    "    get avg RT, and standard error \n",
    "    '''\n",
    "\n",
    "    avgRT = np.mean(np.array(df[col]))\n",
    "    semRT = sem(np.array(df[col]))\n",
    "\n",
    "    return avgRT, semRT, np.array(df[col])"
   ]
  },
  {
   "cell_type": "markdown",
   "metadata": {},
   "source": [
    "### Scale"
   ]
  },
  {
   "cell_type": "code",
   "execution_count": 10,
   "metadata": {},
   "outputs": [
    {
     "data": {
      "text/plain": [
       "(-0.15905606987067497, 0.13874834010440448)"
      ]
     },
     "execution_count": 10,
     "metadata": {},
     "output_type": "execute_result"
    }
   ],
   "source": [
    "scaled_avgRT, scaled_RT_sem, scaled_RT_responses = get_RT_descriptives(final_data_CO.loc[final_data_CO['scale']=='scaled'], col)\n",
    "misscaled_avgRT, misscaled_RT_sem, misscaled_RT_responses = get_RT_descriptives(final_data_CO.loc[final_data_CO['scale']=='misscaled'], col)\n",
    "\n",
    "scaled_avgRT, misscaled_avgRT"
   ]
  },
  {
   "cell_type": "code",
   "execution_count": 7,
   "metadata": {},
   "outputs": [
    {
     "data": {
      "image/png": "[encoded data removed]",
      "text/plain": [
       "<Figure size 576x720 with 1 Axes>"
      ]
     },
     "metadata": {
      "needs_background": "light"
     },
     "output_type": "display_data"
    }
   ],
   "source": [
    "fig, ax = plt.subplots(figsize=[8,10])\n",
    "ax.spines['right'].set_visible(False)\n",
    "ax.spines['top'].set_visible(False)\n",
    "for axis in ['bottom','left']:\n",
    "    ax.spines[axis].set_linewidth(2.3)\n",
    "    \n",
    "RT_data_scale = {'Misscaled':misscaled_avgRT, 'Scaled':scaled_avgRT}\n",
    "\n",
    "   \n",
    "# creating the bar plot\n",
    "plt.bar(list(RT_data_scale.keys()), list(RT_data_scale.values()), color ='gray', alpha=0.7,\n",
    "        width = 0.4, yerr=[misscaled_RT_sem, scaled_RT_sem], capsize=5)\n",
    "\n",
    "\n",
    "plt.xticks(fontsize=18) \n",
    "plt.ylim(-0.25, 0.25)\n",
    "plt.yticks(np.arange(-0.25, 0.3, 0.1),fontsize=16) \n",
    "plt.ylabel(\"Z-Scored RT (ms)\", fontsize=18)\n",
    "\n",
    "plt.savefig(fig_destination + '/exp2-RT-scale.png', dpi=300)  # Adjust the dpi value as needed for higher or lower resolution\n",
    "plt.show()"
   ]
  },
  {
   "cell_type": "markdown",
   "metadata": {},
   "source": [
    "### Effect of Scale by Objects"
   ]
  },
  {
   "cell_type": "code",
   "execution_count": 14,
   "metadata": {},
   "outputs": [
    {
     "data": {
      "text/plain": [
       "array(['clipboard', 'flashdrive', 'sponge', 'spoon', 'toaster',\n",
       "       'saltshaker', 'kettle', 'binderclip', 'eraser', 'laptop',\n",
       "       'notebook', 'pot'], dtype=object)"
      ]
     },
     "execution_count": 14,
     "metadata": {},
     "output_type": "execute_result"
    }
   ],
   "source": [
    "objects = final_data_CO.object.unique()\n",
    "\n",
    "objects"
   ]
  },
  {
   "cell_type": "code",
   "execution_count": 15,
   "metadata": {},
   "outputs": [],
   "source": [
    "def get_RT(df, col):\n",
    "\n",
    "    return np.mean(np.array(df[col])), sem(np.array(df[col]))"
   ]
  },
  {
   "cell_type": "code",
   "execution_count": 16,
   "metadata": {},
   "outputs": [],
   "source": [
    "# Misscaled\n",
    "objects_avgRT = {}\n",
    "objects_semRT = {}\n",
    "\n",
    "for obj in objects:\n",
    "    obj_df = final_data_CO.loc[final_data_CO['object']==obj]\n",
    "    obj_RT_results = get_RT(obj_df, col)\n",
    "    # add to appropriate dictionary\n",
    "    objects_avgRT[obj] = obj_RT_results[0]\n",
    "    objects_semRT[obj] = obj_RT_results[1]\n"
   ]
  },
  {
   "cell_type": "code",
   "execution_count": 23,
   "metadata": {},
   "outputs": [
    {
     "data": {
      "image/png": "[encoded data removed]",
      "text/plain": [
       "<Figure size 1080x720 with 1 Axes>"
      ]
     },
     "metadata": {
      "needs_background": "light"
     },
     "output_type": "display_data"
    }
   ],
   "source": [
    "fig, ax = plt.subplots(figsize=[15,10])\n",
    "ax.spines['right'].set_visible(False)\n",
    "ax.spines['top'].set_visible(False)\n",
    "for axis in ['bottom','left']:\n",
    "    ax.spines[axis].set_linewidth(2.3)\n",
    "\n",
    "# Convert dictionaries to lists for plotting\n",
    "objects_labels = ['flashdrive', 'eraser', 'binderclip', 'saltshaker', 'spoon', 'sponge', 'pot', 'kettle', 'toaster', 'notebook', 'clipboard', 'laptop', ]\n",
    "\n",
    "avgRT = [objects_avgRT[obj] for obj in objects_labels]\n",
    "semRT = [objects_semRT[obj] for obj in objects_labels]\n",
    "\n",
    "# Determine the split index for the first half of the objects\n",
    "split_index = len(objects) // 2\n",
    "\n",
    "# X locations for the objects\n",
    "ind = np.arange(len(objects_labels))\n",
    "width = 0.5  # Width of the bars\n",
    "\n",
    "# Plot the first half with 'xx' hatching\n",
    "rects1 = ax.bar(ind[:split_index], avgRT[:split_index], width, yerr=semRT[:split_index],\n",
    "                label='Misscaled', capsize=5, alpha=0.8, color='skyblue', hatch='xx')\n",
    "# Plot the second half without hatching\n",
    "rects2 = ax.bar(ind[split_index:], avgRT[split_index:], width, yerr=semRT[split_index:],\n",
    "                label='Scaled', capsize=5, alpha=0.8, color='skyblue')\n",
    "\n",
    "# Add some text for labels, title, and custom x-axis tick labels, etc.\n",
    "ax.set_ylabel('Average Response Time', fontsize=22)\n",
    "ax.set_xticks(ind)\n",
    "ax.set_xticklabels(objects_labels, rotation=45)\n",
    "\n",
    "plt.xticks(fontsize=18)\n",
    "plt.yticks(fontsize=16) \n",
    "plt.legend(loc=0, fontsize=15, frameon=False)\n",
    "plt.title('Gabor Discrimination RT', fontsize=24)\n",
    "\n",
    "plt.show()\n"
   ]
  },
  {
   "cell_type": "markdown",
   "metadata": {},
   "source": [
    "### Obj-Scene Congruency"
   ]
  },
  {
   "cell_type": "code",
   "execution_count": 8,
   "metadata": {},
   "outputs": [
    {
     "data": {
      "text/plain": [
       "(0.033538443075490545, -0.05737513991920093)"
      ]
     },
     "execution_count": 8,
     "metadata": {},
     "output_type": "execute_result"
    }
   ],
   "source": [
    "cong_avgRT, cong_RT_sem, cong_RT_responses = get_RT_descriptives(final_data_CO.loc[final_data_CO['objSceneSemCong']== 1], col)\n",
    "incong_avgRT, incong_RT_sem, incong_RT_responses = get_RT_descriptives(final_data_CO.loc[final_data_CO['objSceneSemCong']== 0], col)\n",
    "\n",
    "cong_avgRT, incong_avgRT"
   ]
  },
  {
   "cell_type": "code",
   "execution_count": 170,
   "metadata": {},
   "outputs": [
    {
     "name": "stdout",
     "output_type": "stream",
     "text": [
      "1095 1092\n",
      "T-statistic: 2.1368085907152596\n",
      "P-value: 0.03283549247348835\n"
     ]
    }
   ],
   "source": [
    "print(len(cong_RT_responses), len(incong_RT_responses))\n",
    "\n",
    "\n",
    "t_statistic, p_value = ttest_rel(cong_RT_responses[:-3], incong_RT_responses)\n",
    "\n",
    "print(\"T-statistic:\", t_statistic)\n",
    "print(\"P-value:\", p_value)"
   ]
  },
  {
   "cell_type": "code",
   "execution_count": 13,
   "metadata": {},
   "outputs": [
    {
     "data": {
      "image/png": "[encoded data removed]",
      "text/plain": [
       "<Figure size 576x720 with 1 Axes>"
      ]
     },
     "metadata": {
      "needs_background": "light"
     },
     "output_type": "display_data"
    }
   ],
   "source": [
    "fig, ax = plt.subplots(figsize=[8,10])\n",
    "ax.spines['right'].set_visible(False)\n",
    "ax.spines['top'].set_visible(False)\n",
    "for axis in ['bottom','left']:\n",
    "    ax.spines[axis].set_linewidth(2.3)\n",
    "    \n",
    "RT_data_OSS = {'Congruent':cong_avgRT, 'Incongruent':incong_avgRT, }\n",
    "\n",
    "\n",
    "colors = ['plum', 'darkorchid']  # Specifying colors for each bar\n",
    "# creating the bar plot\n",
    "plt.bar(list(RT_data_OSS.keys()), list(RT_data_OSS.values()), color =colors, alpha=0.7,\n",
    "        width = 0.4, yerr=[cong_RT_sem, incong_RT_sem], capsize=5)\n",
    "\n",
    "\n",
    "\n",
    "plt.xticks(fontsize=18) \n",
    "plt.ylim(-0.25, 0.25)\n",
    "plt.yticks(np.arange(-0.25, 0.3, 0.1),fontsize=16) \n",
    "plt.ylabel(\"Z-Scored RT (ms)\", fontsize=18)\n",
    "\n",
    "plt.savefig(fig_destination + '/exp2-RT-OSS.png', dpi=300)  # Adjust the dpi value as needed for higher or lower resolution\n",
    "plt.show()"
   ]
  },
  {
   "cell_type": "code",
   "execution_count": 10,
   "metadata": {},
   "outputs": [
    {
     "data": {
      "text/plain": [
       "dict_keys(['scaled + 1', 'scaled + 0', 'misscaled + 1', 'misscaled + 0'])"
      ]
     },
     "execution_count": 10,
     "metadata": {},
     "output_type": "execute_result"
    }
   ],
   "source": [
    "results_CO_RT = {}\n",
    "conditions = {'scale': ['scaled', 'misscaled'], 'objSceneSemCong': [1, 0]}\n",
    "\n",
    "for scale in conditions['scale']:\n",
    "    for objSceneSemCong in conditions['objSceneSemCong']:\n",
    "        combination = f\"{scale} + {objSceneSemCong}\"\n",
    "        combination_df = final_data_CO[(final_data_CO['objSceneSemCong'] == objSceneSemCong) & (final_data_CO['scale'] == scale)]\n",
    "        results_CO_RT[combination] = get_RT_descriptives(combination_df, col)\n",
    "        \n",
    "results_CO_RT.keys()"
   ]
  },
  {
   "cell_type": "code",
   "execution_count": 185,
   "metadata": {},
   "outputs": [
    {
     "name": "stdout",
     "output_type": "stream",
     "text": [
      "574 573\n",
      "T-statistic: -0.15604074614018293\n",
      "P-value: 0.8760559574202444\n",
      "572 569\n",
      "T-statistic: 0.13233883348268552\n",
      "P-value: 0.8947631589506848\n",
      "569 574\n",
      "T-statistic: -1.2864540523380457\n",
      "P-value: 0.1988087414181662\n",
      "572 573\n",
      "T-statistic: -1.4447468511669161\n",
      "P-value: 0.1490775248025175\n"
     ]
    }
   ],
   "source": [
    "print(len(results_accuracy['scaled + 1'][2]), len(results_accuracy['scaled + 0'][2]))\n",
    "\n",
    "t_statistic, p_value = ttest_rel(results_accuracy['scaled + 1'][2][:-1], results_accuracy['scaled + 0'][2])\n",
    "\n",
    "print(\"T-statistic:\", t_statistic)\n",
    "print(\"P-value:\", p_value)\n",
    "\n",
    "print(len(results_accuracy['misscaled + 1'][2]), len(results_accuracy['misscaled + 0'][2]))\n",
    "\n",
    "t_statistic, p_value = ttest_rel(results_accuracy['misscaled + 1'][2][:-3], results_accuracy['misscaled + 0'][2])\n",
    "\n",
    "print(\"T-statistic:\", t_statistic)\n",
    "print(\"P-value:\", p_value)\n",
    "\n",
    "print(len(results_accuracy['misscaled + 0'][2]), len(results_accuracy['scaled + 1'][2]))\n",
    "\n",
    "t_statistic, p_value = ttest_rel(results_accuracy['misscaled + 0'][2], results_accuracy['scaled + 1'][2][:-5])\n",
    "\n",
    "print(\"T-statistic:\", t_statistic)\n",
    "print(\"P-value:\", p_value)\n",
    "\n",
    "print(len(results_accuracy['misscaled + 1'][2]), len(results_accuracy['scaled + 0'][2]))\n",
    "\n",
    "t_statistic, p_value = ttest_rel(results_accuracy['misscaled + 1'][2], results_accuracy['scaled + 0'][2][:-1])\n",
    "\n",
    "print(\"T-statistic:\", t_statistic)\n",
    "print(\"P-value:\", p_value)"
   ]
  },
  {
   "cell_type": "code",
   "execution_count": 11,
   "metadata": {},
   "outputs": [
    {
     "data": {
      "image/png": "[encoded data removed]",
      "text/plain": [
       "<Figure size 864x720 with 1 Axes>"
      ]
     },
     "metadata": {
      "needs_background": "light"
     },
     "output_type": "display_data"
    }
   ],
   "source": [
    "fig, ax = plt.subplots(figsize=[12,10])\n",
    "ax.spines['right'].set_visible(False)\n",
    "ax.spines['top'].set_visible(False)\n",
    "for axis in ['bottom','left']:\n",
    "    ax.spines[axis].set_linewidth(2.3)\n",
    "    \n",
    "x = np.arange(2)\n",
    "\n",
    "#                                     Misscaled                             Scaled\n",
    "RT_objSemCong =   [results_CO_RT['misscaled + 1'][0], results_CO_RT['scaled + 1'][0]]\n",
    "yerr_objSemCong =  [results_CO_RT['misscaled + 1'][1], results_CO_RT['scaled + 1'][1]]\n",
    "\n",
    "\n",
    "RT_objSemIncong =   [results_CO_RT['misscaled + 0'][0], results_CO_RT['scaled + 0'][0]]\n",
    "yerr_objSemIncong =  [results_CO_RT['misscaled + 0'][1], results_CO_RT['scaled + 0'][1]]\n",
    "\n",
    "\n",
    "width = 0.25\n",
    "  \n",
    "# plot data in grouped manner of bar type\n",
    "plt.bar(x-0.3, RT_objSemCong, width, color='plum', label='Object-Scene Congruent', yerr=yerr_objSemCong, capsize=5)\n",
    "plt.bar(x, RT_objSemIncong, width, color='darkorchid', label='Object-Scene Incongruent', yerr=yerr_objSemIncong, capsize=5)\n",
    "\n",
    "\n",
    "plt.xticks(x, ['Misscaled', 'Scaled'], fontsize='18')\n",
    "plt.ylim(-0.25, 0.25)\n",
    "plt.yticks(np.arange(-0.25, 0.3, 0.1),fontsize=16) \n",
    "\n",
    "plt.ylabel(\"Z-Scored RT (ms)\", fontsize=18)\n",
    "plt.legend(loc=0, fontsize=15, frameon=False)\n",
    "\n",
    "plt.savefig(fig_destination + '/exp2-RT-scale-OSS.png', dpi=300)  # Adjust the dpi value as needed for higher or lower resolution\n",
    "\n",
    "plt.show()"
   ]
  },
  {
   "cell_type": "markdown",
   "metadata": {},
   "source": [
    "## Inverse Efficiency Score"
   ]
  },
  {
   "cell_type": "code",
   "execution_count": 192,
   "metadata": {},
   "outputs": [
    {
     "data": {
      "text/plain": [
       "dict_keys(['scaled + 1', 'scaled + 0', 'misscaled + 1', 'misscaled + 0'])"
      ]
     },
     "execution_count": 192,
     "metadata": {},
     "output_type": "execute_result"
    }
   ],
   "source": [
    "results_IES = {}\n",
    "conditions = {'scale': ['scaled', 'misscaled'], 'objSceneSemCong': [1, 0]}\n",
    "\n",
    "for scale in conditions['scale']:\n",
    "    for objSceneSemCong in conditions['objSceneSemCong']:\n",
    "        combination = f\"{scale} + {objSceneSemCong}\"\n",
    "        combination_df = final_data[(final_data['objSceneSemCong'] == objSceneSemCong) & (final_data['scale'] == scale)]\n",
    "        comb_RT, comb_RT_sem, comb_RT_responses = get_RT_descriptives(combination_df, col)\n",
    "        comb_acc, comb_acc_sem, comb_acc_responses = get_proportion_correct(combination_df)\n",
    "\n",
    "        results_IES[combination] = comb_RT/comb_acc\n",
    "        \n",
    "results_IES.keys()"
   ]
  },
  {
   "cell_type": "code",
   "execution_count": 193,
   "metadata": {},
   "outputs": [
    {
     "data": {
      "image/png": "[encoded data removed]",
      "text/plain": [
       "<Figure size 864x720 with 1 Axes>"
      ]
     },
     "metadata": {
      "needs_background": "light"
     },
     "output_type": "display_data"
    }
   ],
   "source": [
    "fig, ax = plt.subplots(figsize=[12,10])\n",
    "ax.spines['right'].set_visible(False)\n",
    "ax.spines['top'].set_visible(False)\n",
    "for axis in ['bottom','left']:\n",
    "    ax.spines[axis].set_linewidth(2.3)\n",
    "    \n",
    "x = np.arange(2)\n",
    "\n",
    "#                                Misscaled                     Scaled\n",
    "IES_objSemCong =   [results_IES['misscaled + 1'], results_IES['scaled + 1']]\n",
    "\n",
    "IES_objSemIncong =   [results_IES['misscaled + 0'], results_IES['scaled + 0']]\n",
    "\n",
    "\n",
    "width = 0.2\n",
    "  \n",
    "# plot data in grouped manner of bar type\n",
    "plt.bar(x-0.2, IES_objSemCong, width, color='lightblue', label='Object-Scene Congruent', capsize=5)\n",
    "plt.bar(x, IES_objSemIncong, width, color='blue', label='Object-Scene Incongruent', capsize=5)\n",
    "\n",
    "\n",
    "plt.xticks(x, ['Misscaled', 'Scaled'], fontsize='18')\n",
    "plt.yticks(fontsize=16) \n",
    "# plt.ylim(1000)\n",
    "plt.ylabel(\"IES (RT/PC)\", fontsize=18)\n",
    "plt.legend(loc=0, fontsize=15, frameon=False)\n",
    "\n",
    "plt.show()"
   ]
  },
  {
   "cell_type": "markdown",
   "metadata": {},
   "source": [
    "## Demographics + Other"
   ]
  },
  {
   "cell_type": "markdown",
   "metadata": {},
   "source": [
    "### Screen Size"
   ]
  },
  {
   "cell_type": "code",
   "execution_count": 3,
   "metadata": {},
   "outputs": [
    {
     "data": {
      "text/plain": [
       "(1652.972027972028, 319.45375293853834)"
      ]
     },
     "execution_count": 3,
     "metadata": {},
     "output_type": "execute_result"
    }
   ],
   "source": [
    "screenWidths = np.array(final_data['screenWidth'])\n",
    "screenHeights = np.array(final_data['screenHeight'])\n",
    "\n",
    "np.mean(screenWidths), np.std(screenWidths)"
   ]
  },
  {
   "cell_type": "markdown",
   "metadata": {},
   "source": [
    "### Time Taken"
   ]
  },
  {
   "cell_type": "code",
   "execution_count": 4,
   "metadata": {},
   "outputs": [
    {
     "data": {
      "text/plain": [
       "(6.550422494172494, 5.089886445013325)"
      ]
     },
     "execution_count": 4,
     "metadata": {},
     "output_type": "execute_result"
    }
   ],
   "source": [
    "np.mean((np.array(final_data['totalTime'])//1000)/60), np.std((np.array(final_data['totalTime'])//1000)/60)"
   ]
  },
  {
   "cell_type": "markdown",
   "metadata": {},
   "source": [
    "### Age"
   ]
  },
  {
   "cell_type": "code",
   "execution_count": 5,
   "metadata": {},
   "outputs": [
    {
     "data": {
      "text/plain": [
       "(28.203125, 8.7485350336142)"
      ]
     },
     "execution_count": 5,
     "metadata": {},
     "output_type": "execute_result"
    }
   ],
   "source": [
    "ages = []\n",
    "for subj in final_data.subjID.unique():\n",
    "    subj_age = final_data.loc[final_data['subjID']==subj].age.unique()[0]\n",
    "    if subj_age < 18:\n",
    "        print(subj_age)\n",
    "        pass\n",
    "    else:\n",
    "        if subj_age > 1900:\n",
    "            print(subj_age)\n",
    "            subj_age = 2023 - subj_age\n",
    "            \n",
    "    ages.append(subj_age)\n",
    "\n",
    "np.mean(np.array(ages)), np.std(np.array(ages))"
   ]
  },
  {
   "cell_type": "code",
   "execution_count": 18,
   "metadata": {},
   "outputs": [
    {
     "data": {
      "text/plain": [
       "(18, 70)"
      ]
     },
     "execution_count": 18,
     "metadata": {},
     "output_type": "execute_result"
    }
   ],
   "source": [
    "np.min(np.array(ages)), np.max(np.array(ages))"
   ]
  },
  {
   "cell_type": "markdown",
   "metadata": {},
   "source": [
    "### Gender"
   ]
  },
  {
   "cell_type": "code",
   "execution_count": 14,
   "metadata": {},
   "outputs": [
    {
     "data": {
      "text/plain": [
       "{'Man': 0,\n",
       " 'Non-binary': 0,\n",
       " 'Woman': 0,\n",
       " 'Donna': 0,\n",
       " 'Transgender': 0,\n",
       " 'None of these describe me': 0,\n",
       " 'Prefer not to answer': 0,\n",
       " 'Kobieta': 0,\n",
       " 'Hombre': 0}"
      ]
     },
     "execution_count": 14,
     "metadata": {},
     "output_type": "execute_result"
    }
   ],
   "source": [
    "gender_dict_count = {}\n",
    "for response in final_data.gender.unique():\n",
    "    gender_dict_count[response] = 0\n",
    "\n",
    "gender_dict_count"
   ]
  },
  {
   "cell_type": "code",
   "execution_count": 15,
   "metadata": {},
   "outputs": [],
   "source": [
    "translation_dict = {'Donna': 'Woman', 'Mujer': 'Woman', 'Mulher': 'Woman', 'Człowiek': 'Man', 'Kobieta': 'Woman', 'Hombre': 'Man', 'Homem': 'Man', 'WOMAN': 'Woman'}\n"
   ]
  },
  {
   "cell_type": "code",
   "execution_count": 16,
   "metadata": {},
   "outputs": [],
   "source": [
    "gender_dict_count = {'Woman': 0,\n",
    "                     'Man': 0,\n",
    "                     'Transgender': 0,\n",
    "                     'Transgender Woman': 0,\n",
    "                     'Non-binary': 0,\n",
    "                     'Genderqueer': 0,\n",
    "                     'Prefer not to answer': 0,\n",
    "                     'None of these describe me': 0}\n",
    "\n",
    "for subj in final_data.subjID.unique():\n",
    "    subj_gender = final_data.loc[final_data['subjID']==subj].gender.unique()[0]\n",
    "    if subj_gender in translation_dict.keys():\n",
    "        translated_gender = translation_dict[subj_gender]\n",
    "        gender_dict_count[translated_gender] += 1\n",
    "    else:\n",
    "        gender_dict_count[subj_gender] += 1\n"
   ]
  },
  {
   "cell_type": "code",
   "execution_count": 17,
   "metadata": {},
   "outputs": [
    {
     "data": {
      "text/plain": [
       "{'Woman': 92,\n",
       " 'Man': 89,\n",
       " 'Transgender': 2,\n",
       " 'Transgender Woman': 0,\n",
       " 'Non-binary': 7,\n",
       " 'Genderqueer': 0,\n",
       " 'Prefer not to answer': 1,\n",
       " 'None of these describe me': 1}"
      ]
     },
     "execution_count": 17,
     "metadata": {},
     "output_type": "execute_result"
    }
   ],
   "source": [
    "gender_dict_count"
   ]
  }
 ],
 "metadata": {
  "kernelspec": {
   "display_name": "Python 3",
   "language": "python",
   "name": "python3"
  },
  "language_info": {
   "codemirror_mode": {
    "name": "ipython",
    "version": 3
   },
   "file_extension": ".py",
   "mimetype": "text/x-python",
   "name": "python",
   "nbconvert_exporter": "python",
   "pygments_lexer": "ipython3",
   "version": "3.7.5"
  }
 },
 "nbformat": 4,
 "nbformat_minor": 4
}
